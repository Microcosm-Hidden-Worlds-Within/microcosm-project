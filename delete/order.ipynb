{
 "cells": [
  {
   "cell_type": "code",
   "execution_count": 7,
   "metadata": {},
   "outputs": [],
   "source": [
    "import json\n",
    "import pprint\n",
    "\n",
    "# Example: Reading JSON data from a file\n",
    "with open(\"original.json\", \"r\") as file:\n",
    "    data = json.load(file)\n",
    "\n",
    "objects = data[\"objects\"]\n",
    "\n",
    "ordered_objects = {}\n",
    "\n",
    "for i, obj in enumerate(objects):\n",
    "    dimension_string = obj[\"data\"][\"subjectData\"][\"Dimensions\"]\n",
    "    if dimension_string:\n",
    "        dimension = (dimension_string).split(\"-\")[0].split(\" \")[0]\n",
    "      #   print(dimension_string)\n",
    "      #   print(f'final result {dimension}')\n",
    "        ordered_objects[i] = obj\n",
    "        ordered_objects[i][\"sort_d\"] = float(dimension)\n",
    "\n",
    "hopefully_sorted = sorted(ordered_objects.values(), key=lambda d: d[\"sort_d\"])\n",
    "\n",
    "hopefully_sorted\n",
    "\n",
    "for i, obj in enumerate(hopefully_sorted):\n",
    "    obj['id'] = i + 1\n",
    "    del obj[\"sort_d\"]\n",
    "\n",
    "with open(\"output.json\", \"w\") as file:\n",
    "    json.dump(hopefully_sorted, file, indent=2)  # indent=2 for pretty-printing"
   ]
  }
 ],
 "metadata": {
  "kernelspec": {
   "display_name": "Python 3",
   "language": "python",
   "name": "python3"
  },
  "language_info": {
   "codemirror_mode": {
    "name": "ipython",
    "version": 3
   },
   "file_extension": ".py",
   "mimetype": "text/x-python",
   "name": "python",
   "nbconvert_exporter": "python",
   "pygments_lexer": "ipython3",
   "version": "3.12.1"
  }
 },
 "nbformat": 4,
 "nbformat_minor": 2
}
